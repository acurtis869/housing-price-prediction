{
 "cells": [
  {
   "cell_type": "markdown",
   "id": "romance-malawi",
   "metadata": {},
   "source": [
    "# Housing Price Prediction Model"
   ]
  },
  {
   "cell_type": "code",
   "execution_count": 12,
   "id": "purple-threat",
   "metadata": {},
   "outputs": [],
   "source": [
    "# First import some libraries that we know we are going to need.\n",
    "import numpy as np\n",
    "import pandas as pd\n",
    "import matplotlib.pyplot as plt"
   ]
  },
  {
   "cell_type": "markdown",
   "id": "suspected-hearts",
   "metadata": {},
   "source": [
    "## Step 1: Prepare the Data"
   ]
  },
  {
   "cell_type": "code",
   "execution_count": 13,
   "id": "foster-message",
   "metadata": {},
   "outputs": [],
   "source": [
    "# Read in full downloaded dataset\n",
    "housing = pd.read_csv(\"pp-complete.csv\", header = None)"
   ]
  },
  {
   "cell_type": "markdown",
   "id": "gross-military",
   "metadata": {},
   "source": [
    "The dataset is over 4GB, which makes computation time very long for this machine. To get around this problem, I am going to randomly sample from the data (without replacement) to obtain a new dataset with 100,000 rows. This is still a relatively large sample so it will still reflect the distribution of the data, without the need for using stratified sampling. A random state is going to be used to ensure the resulting dataset is reproducible."
   ]
  },
  {
   "cell_type": "code",
   "execution_count": 14,
   "id": "detailed-graduation",
   "metadata": {},
   "outputs": [],
   "source": [
    "# Sample from the data and save it in a new variable \n",
    "housing_sample = housing.sample(n = 100000, replace = False, random_state = 42)"
   ]
  },
  {
   "cell_type": "markdown",
   "id": "collect-legislation",
   "metadata": {},
   "source": [
    "We now need to filter the data to only take the columns of interest. An array y is created to store the labels (which in this case is the house prices), and a data frame X is created to store the predictor variables (property type, estate type, location). The location column must also be transformed into a binary value indicating whether the property is in London."
   ]
  },
  {
   "cell_type": "code",
   "execution_count": 15,
   "id": "acoustic-strength",
   "metadata": {},
   "outputs": [
    {
     "name": "stderr",
     "output_type": "stream",
     "text": [
      "/Users/alexcurtis/my_env/lib/python3.7/site-packages/ipykernel_launcher.py:7: SettingWithCopyWarning: \n",
      "A value is trying to be set on a copy of a slice from a DataFrame.\n",
      "Try using .loc[row_indexer,col_indexer] = value instead\n",
      "\n",
      "See the caveats in the documentation: https://pandas.pydata.org/pandas-docs/stable/user_guide/indexing.html#returning-a-view-versus-a-copy\n",
      "  import sys\n"
     ]
    }
   ],
   "source": [
    "# Filter to only take columns of interest\n",
    "y = housing_sample[1]\n",
    "X = housing_sample[[4, 6, 11]]\n",
    "# Filter location to be a boolean for london/not london\n",
    "X[11] = np.where(X[11].str.contains(\"LONDON\"), 1, 0)\n",
    "# Add more meaningful column names\n",
    "y.columns = \"price\"\n",
    "X.columns = [\"property.type\", \"estate.type\", \"london\"]"
   ]
  },
  {
   "cell_type": "markdown",
   "id": "excellent-slovenia",
   "metadata": {},
   "source": [
    "Let's have a look at the first five rows of the data to see if it has been formatted correctly."
   ]
  },
  {
   "cell_type": "code",
   "execution_count": 16,
   "id": "precious-gambling",
   "metadata": {},
   "outputs": [
    {
     "data": {
      "text/html": [
       "<div>\n",
       "<style scoped>\n",
       "    .dataframe tbody tr th:only-of-type {\n",
       "        vertical-align: middle;\n",
       "    }\n",
       "\n",
       "    .dataframe tbody tr th {\n",
       "        vertical-align: top;\n",
       "    }\n",
       "\n",
       "    .dataframe thead th {\n",
       "        text-align: right;\n",
       "    }\n",
       "</style>\n",
       "<table border=\"1\" class=\"dataframe\">\n",
       "  <thead>\n",
       "    <tr style=\"text-align: right;\">\n",
       "      <th></th>\n",
       "      <th>property.type</th>\n",
       "      <th>estate.type</th>\n",
       "      <th>london</th>\n",
       "    </tr>\n",
       "  </thead>\n",
       "  <tbody>\n",
       "    <tr>\n",
       "      <th>22470060</th>\n",
       "      <td>T</td>\n",
       "      <td>F</td>\n",
       "      <td>1</td>\n",
       "    </tr>\n",
       "    <tr>\n",
       "      <th>22284178</th>\n",
       "      <td>D</td>\n",
       "      <td>F</td>\n",
       "      <td>0</td>\n",
       "    </tr>\n",
       "    <tr>\n",
       "      <th>19668643</th>\n",
       "      <td>S</td>\n",
       "      <td>F</td>\n",
       "      <td>0</td>\n",
       "    </tr>\n",
       "    <tr>\n",
       "      <th>3632478</th>\n",
       "      <td>S</td>\n",
       "      <td>L</td>\n",
       "      <td>0</td>\n",
       "    </tr>\n",
       "    <tr>\n",
       "      <th>10190356</th>\n",
       "      <td>D</td>\n",
       "      <td>F</td>\n",
       "      <td>0</td>\n",
       "    </tr>\n",
       "  </tbody>\n",
       "</table>\n",
       "</div>"
      ],
      "text/plain": [
       "         property.type estate.type  london\n",
       "22470060             T           F       1\n",
       "22284178             D           F       0\n",
       "19668643             S           F       0\n",
       "3632478              S           L       0\n",
       "10190356             D           F       0"
      ]
     },
     "execution_count": 16,
     "metadata": {},
     "output_type": "execute_result"
    }
   ],
   "source": [
    "X.head()"
   ]
  },
  {
   "cell_type": "markdown",
   "id": "hollywood-journalist",
   "metadata": {},
   "source": [
    "Looks good! Now let's just make sure there aren't any missing values."
   ]
  },
  {
   "cell_type": "code",
   "execution_count": 17,
   "id": "exterior-surprise",
   "metadata": {},
   "outputs": [
    {
     "data": {
      "text/plain": [
       "False"
      ]
     },
     "execution_count": 17,
     "metadata": {},
     "output_type": "execute_result"
    }
   ],
   "source": [
    "# Check if there are any missing values\n",
    "X.isna().any().any()"
   ]
  },
  {
   "cell_type": "markdown",
   "id": "nearby-weekend",
   "metadata": {},
   "source": [
    "This confirms that there are no missing values so all good. \n",
    "We now need to transform our predictor data, X, so that the factors in the categorical variables are all binary values. This will be essential in fitting the models later on. We can do this using Scikit-Learn's OneHotEncoder class implemented in a column tranforming pipeline."
   ]
  },
  {
   "cell_type": "code",
   "execution_count": 18,
   "id": "special-hello",
   "metadata": {},
   "outputs": [],
   "source": [
    "# Use one-hot encoding to handle categorical variables\n",
    "from sklearn.preprocessing import OneHotEncoder\n",
    "from sklearn.compose import ColumnTransformer\n",
    "\n",
    "# Define which variables to transform\n",
    "cat_attribs = [\"property.type\", \"estate.type\"]\n",
    "\n",
    "# Create pipeline\n",
    "full_pipeline = ColumnTransformer([\n",
    "    (\"cat\", OneHotEncoder(), cat_attribs),\n",
    "])\n",
    "\n",
    "# Transform data\n",
    "X = full_pipeline.fit_transform(X)"
   ]
  },
  {
   "cell_type": "markdown",
   "id": "legendary-federal",
   "metadata": {},
   "source": [
    "We now need to split the data into training and testing data so we can evaluate the model later on. As instructed, we will do this by using pre-2017 data for training, and the rest for testing. To do this we can import datetime, and filter the data using datetime values."
   ]
  },
  {
   "cell_type": "code",
   "execution_count": 19,
   "id": "pacific-commonwealth",
   "metadata": {},
   "outputs": [],
   "source": [
    "import datetime\n",
    "\n",
    "# Transform date column in the original sample data to datetime values\n",
    "housing_sample[2] = pd.to_datetime(housing_sample[2])\n",
    "\n",
    "# Calculate where date is pre- or post-2017 and save the indices in an array\n",
    "index_train = (housing_sample[2] < datetime.datetime(2017, 1, 1))\n",
    "index_test = (housing_sample[2] >= datetime.datetime(2017, 1, 1))\n",
    "\n",
    "# Split the data using the inidices above\n",
    "y_train = y[index_train]\n",
    "y_test = y[index_test]\n",
    "X_train = X[index_train]\n",
    "X_test = X[index_test]"
   ]
  },
  {
   "cell_type": "markdown",
   "id": "billion-affect",
   "metadata": {},
   "source": [
    "If we have split the data correctly, the lengths of the test plus the train data should equal the length of the original data. Check if this is true:"
   ]
  },
  {
   "cell_type": "code",
   "execution_count": 20,
   "id": "innocent-anniversary",
   "metadata": {},
   "outputs": [
    {
     "data": {
      "text/plain": [
       "True"
      ]
     },
     "execution_count": 20,
     "metadata": {},
     "output_type": "execute_result"
    }
   ],
   "source": [
    "# Check that this has been done correctly \n",
    "len(y) == len(y_train) + len(y_test)"
   ]
  },
  {
   "cell_type": "markdown",
   "id": "educated-recommendation",
   "metadata": {},
   "source": [
    "That means the data has been successfully split. Let's have a look at the ratio of test to train to ensure we have ample data for each."
   ]
  },
  {
   "cell_type": "code",
   "execution_count": 21,
   "id": "everyday-papua",
   "metadata": {},
   "outputs": [
    {
     "data": {
      "text/plain": [
       "0.16675222849675642"
      ]
     },
     "execution_count": 21,
     "metadata": {},
     "output_type": "execute_result"
    }
   ],
   "source": [
    "len(y_test) / len(y_train)"
   ]
  },
  {
   "cell_type": "markdown",
   "id": "equipped-player",
   "metadata": {},
   "source": [
    "This seems reasonable."
   ]
  },
  {
   "cell_type": "markdown",
   "id": "cooked-archive",
   "metadata": {},
   "source": [
    "## Step 2: Exploratory Data Analysis\n",
    "There isn't much we can do here since all of the predictor data is categorical. We can still have a look at the distribution of the labels to see what we are trying to predict. We do this by creating a histogram."
   ]
  },
  {
   "cell_type": "code",
   "execution_count": 22,
   "id": "daily-essex",
   "metadata": {},
   "outputs": [
    {
     "data": {
      "text/plain": [
       "(array([8.5608e+04, 7.1000e+01, 1.6000e+01, 7.0000e+00, 2.0000e+00,\n",
       "        1.0000e+00, 0.0000e+00, 0.0000e+00, 0.0000e+00, 3.0000e+00]),\n",
       " array([9.50000000e+01, 2.34788550e+06, 4.69567600e+06, 7.04346650e+06,\n",
       "        9.39125700e+06, 1.17390475e+07, 1.40868380e+07, 1.64346285e+07,\n",
       "        1.87824190e+07, 2.11302095e+07, 2.34780000e+07]),\n",
       " <BarContainer object of 10 artists>)"
      ]
     },
     "execution_count": 22,
     "metadata": {},
     "output_type": "execute_result"
    },
    {
     "data": {
      "image/png": "[encoded data removed]",
      "text/plain": [
       "<Figure size 432x288 with 1 Axes>"
      ]
     },
     "metadata": {
      "needs_background": "light"
     },
     "output_type": "display_data"
    }
   ],
   "source": [
    "plt.hist(y_train)"
   ]
  },
  {
   "cell_type": "markdown",
   "id": "imperial-restoration",
   "metadata": {},
   "source": [
    "There are clearly some very high values (around 20,000,000) that are causing the data to be heavily right-skewed. Although these values are large, there is no reason to believe they are anomalous so we cannot remove them on those grounds. This skew will be a problem when fitting the models so let's try transforming the data to see if we can get a more reasonable distribution."
   ]
  },
  {
   "cell_type": "code",
   "execution_count": 23,
   "id": "regional-python",
   "metadata": {},
   "outputs": [
    {
     "data": {
      "text/plain": [
       "(array([2.0000e+00, 1.0000e+00, 1.1000e+01, 3.0600e+02, 9.2010e+03,\n",
       "        4.4181e+04, 2.9750e+04, 2.1290e+03, 1.1400e+02, 1.3000e+01]),\n",
       " array([ 4.55387689,  5.79564664,  7.03741639,  8.27918614,  9.52095588,\n",
       "        10.76272563, 12.00449538, 13.24626513, 14.48803487, 15.72980462,\n",
       "        16.97157437]),\n",
       " <BarContainer object of 10 artists>)"
      ]
     },
     "execution_count": 23,
     "metadata": {},
     "output_type": "execute_result"
    },
    {
     "data": {
      "image/png": "[encoded data removed]",
      "text/plain": [
       "<Figure size 432x288 with 1 Axes>"
      ]
     },
     "metadata": {
      "needs_background": "light"
     },
     "output_type": "display_data"
    }
   ],
   "source": [
    "# Try a log transform\n",
    "plt.hist(np.log(y_train))"
   ]
  },
  {
   "cell_type": "markdown",
   "id": "worse-technique",
   "metadata": {},
   "source": [
    "That looks a lot better to fit models to. Let's now use log(price) to fit some models."
   ]
  },
  {
   "cell_type": "markdown",
   "id": "fifteen-wheel",
   "metadata": {},
   "source": [
    "## Step 3: Explore Different Models\n",
    "\n",
    "Let's look at several different types of models for predicting log house sale prices. We can evalaute these models using cross-validation (with the negative mean squared error as our scoring function) to select a model class, which we can then fine-tune.\n",
    "\n",
    "### Model 1: Linear Regression\n",
    "\n",
    "The first type of model we will look at is linear regression. "
   ]
  },
  {
   "cell_type": "code",
   "execution_count": 24,
   "id": "disabled-methodology",
   "metadata": {},
   "outputs": [],
   "source": [
    "from sklearn.linear_model import LinearRegression\n",
    "\n",
    "# Create linear regression object\n",
    "lin_reg = LinearRegression()"
   ]
  },
  {
   "cell_type": "markdown",
   "id": "placed-jamaica",
   "metadata": {},
   "source": [
    "Evaluate this model using 10-fold cross-validation."
   ]
  },
  {
   "cell_type": "code",
   "execution_count": 25,
   "id": "arranged-physics",
   "metadata": {},
   "outputs": [
    {
     "data": {
      "text/plain": [
       "0.7426422504631365"
      ]
     },
     "execution_count": 25,
     "metadata": {},
     "output_type": "execute_result"
    }
   ],
   "source": [
    "from sklearn.model_selection import cross_val_score\n",
    "\n",
    "# Calculate cross-validation scores\n",
    "scores = cross_val_score(lin_reg, X_train, np.log(y_train),\n",
    "                             scoring=\"neg_mean_squared_error\", cv=10)\n",
    "\n",
    "# Square root the scores so they are on the same scale as the response\n",
    "rmse_scores = np.sqrt(-scores)\n",
    "# Output the mean of the scores\n",
    "np.mean(rmse_scores)"
   ]
  },
  {
   "cell_type": "markdown",
   "id": "subjective-visit",
   "metadata": {},
   "source": [
    "### Model 2: Decision Tree Regressor\n",
    "We will now repeat the exact same process, this time, with a decision tree regressor."
   ]
  },
  {
   "cell_type": "code",
   "execution_count": 26,
   "id": "afraid-rough",
   "metadata": {},
   "outputs": [],
   "source": [
    "from sklearn.tree import DecisionTreeRegressor\n",
    "\n",
    "# Create decision tree object, and set random state to ensure results are reproducible\n",
    "tree_reg = DecisionTreeRegressor(random_state = 42)"
   ]
  },
  {
   "cell_type": "code",
   "execution_count": 27,
   "id": "sophisticated-norman",
   "metadata": {},
   "outputs": [
    {
     "data": {
      "text/plain": [
       "0.7412977991361361"
      ]
     },
     "execution_count": 27,
     "metadata": {},
     "output_type": "execute_result"
    }
   ],
   "source": [
    "# Calculate cross-validation scores\n",
    "tree_scores = cross_val_score(tree_reg, X_train, np.log(y_train),\n",
    "                             scoring=\"neg_mean_squared_error\", cv=10)\n",
    "\n",
    "# Square root the scores so they are on the same scale as the response\n",
    "tree_rmse_scores = np.sqrt(-tree_scores)\n",
    "# Output the mean of the scores\n",
    "np.mean(tree_rmse_scores)"
   ]
  },
  {
   "cell_type": "markdown",
   "id": "boring-legislation",
   "metadata": {},
   "source": [
    "### Model 3: Random Forest Regressor\n",
    "The final model we will try will be a random forest regressor. This is an ensemble method which uses decision trees so we would expect it to produce a better result that the one above (although at greater computational cost)."
   ]
  },
  {
   "cell_type": "code",
   "execution_count": 28,
   "id": "rubber-employer",
   "metadata": {},
   "outputs": [],
   "source": [
    "from sklearn.ensemble import RandomForestRegressor\n",
    "\n",
    "# Create random forest object, and set random state to ensure results are reproducible\n",
    "forest_reg = RandomForestRegressor(random_state = 42)"
   ]
  },
  {
   "cell_type": "code",
   "execution_count": 29,
   "id": "banner-honey",
   "metadata": {},
   "outputs": [
    {
     "data": {
      "text/plain": [
       "0.7412977954008283"
      ]
     },
     "execution_count": 29,
     "metadata": {},
     "output_type": "execute_result"
    }
   ],
   "source": [
    "# Calculate cross-validation scores\n",
    "forest_scores = cross_val_score(forest_reg, X_train, np.log(y_train),\n",
    "                             scoring=\"neg_mean_squared_error\", cv=10)\n",
    "\n",
    "# Square root the scores so they are on the same scale as the response\n",
    "forest_rmse_scores = np.sqrt(-forest_scores)\n",
    "# Output the mean of the scores\n",
    "np.mean(forest_rmse_scores)"
   ]
  },
  {
   "cell_type": "markdown",
   "id": "blessed-adolescent",
   "metadata": {},
   "source": [
    "The best model (i.e. the one with the lowest RMSE score) is the random forest regressor, so we will continue with that and fine-tune the parameters. Since there wasn't a big difference between this model and the decision tree model, we could also perhaps have gone with that since it saves on computation time. However, let's assume for now that computation time isn't an issue and continue with the random forest model."
   ]
  },
  {
   "cell_type": "markdown",
   "id": "grave-kingston",
   "metadata": {},
   "source": [
    "## Step 4: Fine-tuning the model\n",
    "Let's now continue with the random forest regressor and fine-tune the hyperparameters to find the best model. We can do this using grid search, which can be implemented using Scikit-Learn's GridSearchCV class which searches for the hyperparameters that minimise the cross-validation score. Again, we will use the negative mean squared error as our scoring function, although now we will use only 5-fold cross-validation, otherwise the computation time is too large."
   ]
  },
  {
   "cell_type": "code",
   "execution_count": 30,
   "id": "nominated-meditation",
   "metadata": {},
   "outputs": [
    {
     "data": {
      "text/plain": [
       "GridSearchCV(cv=5, estimator=RandomForestRegressor(random_state=42),\n",
       "             param_grid=[{'max_features': [2, 4, 6, 8],\n",
       "                          'n_estimators': [5, 10, 20, 30, 40]},\n",
       "                         {'bootstrap': [False], 'max_features': [2, 4, 6, 8],\n",
       "                          'n_estimators': [5, 10, 20, 30, 40]}],\n",
       "             return_train_score=True, scoring='neg_mean_squared_error')"
      ]
     },
     "execution_count": 30,
     "metadata": {},
     "output_type": "execute_result"
    }
   ],
   "source": [
    "from sklearn.model_selection import GridSearchCV\n",
    "\n",
    "# Create a grid of hyperparamters to search over\n",
    "parameters = [{'n_estimators': [5, 10, 20, 30, 40], 'max_features': [2, 4, 6, 8]},\n",
    "              {'bootstrap': [False], 'n_estimators': [5, 10, 20, 30, 40], 'max_features': [2, 4, 6, 8]},]\n",
    "\n",
    "# Create random forest object, setting random state for reproducibilty\n",
    "forest_reg = RandomForestRegressor(random_state = 42)\n",
    "    \n",
    "# Create grid search object, with specified hyperparameters to search\n",
    "grid_search = GridSearchCV(forest_reg, parameters, cv=5,\n",
    "                           scoring='neg_mean_squared_error',\n",
    "                           return_train_score=True)\n",
    "    \n",
    "# Run the grid search algorithm with the training data\n",
    "grid_search.fit(X_train, np.log(y_train))"
   ]
  },
  {
   "cell_type": "markdown",
   "id": "unique-source",
   "metadata": {},
   "source": [
    "We can now see what the optimal hyperparameters are."
   ]
  },
  {
   "cell_type": "code",
   "execution_count": 31,
   "id": "brilliant-shell",
   "metadata": {},
   "outputs": [
    {
     "data": {
      "text/plain": [
       "{'bootstrap': False, 'max_features': 8, 'n_estimators': 40}"
      ]
     },
     "execution_count": 31,
     "metadata": {},
     "output_type": "execute_result"
    }
   ],
   "source": [
    "grid_search.best_params_"
   ]
  },
  {
   "cell_type": "markdown",
   "id": "original-artist",
   "metadata": {},
   "source": [
    "These hyperparameters are at the top of the specified range so let's do another search to see if we can further improve our model."
   ]
  },
  {
   "cell_type": "code",
   "execution_count": 32,
   "id": "informal-dependence",
   "metadata": {},
   "outputs": [
    {
     "data": {
      "text/plain": [
       "GridSearchCV(cv=5, estimator=RandomForestRegressor(random_state=42),\n",
       "             param_grid=[{'bootstrap': [False], 'max_features': [7, 8],\n",
       "                          'n_estimators': [38, 39, 40, 41, 42, 43]}],\n",
       "             return_train_score=True, scoring='neg_mean_squared_error')"
      ]
     },
     "execution_count": 32,
     "metadata": {},
     "output_type": "execute_result"
    }
   ],
   "source": [
    "# Create a finer grid with larger hyperparameters to search over\n",
    "parameters = [{'bootstrap': [False], 'n_estimators': [38, 39, 40, 41, 42, 43], 'max_features': [7, 8]},]\n",
    "\n",
    "# Create grid search object\n",
    "grid_search = GridSearchCV(forest_reg, parameters, cv=5,\n",
    "                           scoring='neg_mean_squared_error',\n",
    "                           return_train_score=True)\n",
    "    \n",
    "# Run the grid search\n",
    "grid_search.fit(X_train, np.log(y_train))"
   ]
  },
  {
   "cell_type": "markdown",
   "id": "remarkable-antigua",
   "metadata": {},
   "source": [
    "Again let's see what the optimal hyperparaters were."
   ]
  },
  {
   "cell_type": "code",
   "execution_count": 33,
   "id": "unlike-statement",
   "metadata": {},
   "outputs": [
    {
     "data": {
      "text/plain": [
       "{'bootstrap': False, 'max_features': 8, 'n_estimators': 38}"
      ]
     },
     "execution_count": 33,
     "metadata": {},
     "output_type": "execute_result"
    }
   ],
   "source": [
    "grid_search.best_params_"
   ]
  },
  {
   "cell_type": "markdown",
   "id": "leading-spirituality",
   "metadata": {},
   "source": [
    "Interestingly, the max_features optimum has gone down. This perhaps suggests there isn't much improvement to be had around these values and so the output values are somewhat volatile. Either way, we can continue with these hyperparamters to evaluate our model."
   ]
  },
  {
   "cell_type": "markdown",
   "id": "voluntary-omega",
   "metadata": {},
   "source": [
    "## Step 5: Evaluate and Present the Model\n",
    "It is now time to evaluate the model using the test data. As we have been doing throughout the process, we will be using root mean squared error as the metric on which to evaluate the model. This is chosen as it is easy to compare on the scale of the prediction, so we can get meaningful results."
   ]
  },
  {
   "cell_type": "code",
   "execution_count": 34,
   "id": "integrated-embassy",
   "metadata": {},
   "outputs": [
    {
     "data": {
      "text/plain": [
       "0.9761307099058814"
      ]
     },
     "execution_count": 34,
     "metadata": {},
     "output_type": "execute_result"
    }
   ],
   "source": [
    "from sklearn.metrics import mean_squared_error\n",
    "\n",
    "# Create the model with the optimum hyperparameters\n",
    "best_model = RandomForestRegressor(random_state = 42, bootstrap = False, max_features = 8, n_estimators = 38)\n",
    "# Fit the model using the training data\n",
    "best_model.fit(X_train, np.log(y_train))\n",
    "    \n",
    "# Make predictions using the test data\n",
    "predictions = best_model.predict(X_test)\n",
    "    \n",
    "# Calculate the RMSE, by using the test data labels\n",
    "mse = mean_squared_error(np.log(y_test), predictions)\n",
    "rmse = np.sqrt(mse)\n",
    "rmse"
   ]
  },
  {
   "cell_type": "markdown",
   "id": "excessive-rabbit",
   "metadata": {},
   "source": [
    "This is currently meaningless, since we have no scale with which to compare it to. The predictions were log(price), so let's calculate the mean of this value."
   ]
  },
  {
   "cell_type": "code",
   "execution_count": 35,
   "id": "activated-humanity",
   "metadata": {},
   "outputs": [
    {
     "data": {
      "text/plain": [
       "11.821622701443603"
      ]
     },
     "execution_count": 35,
     "metadata": {},
     "output_type": "execute_result"
    }
   ],
   "source": [
    "np.mean(np.log(y))"
   ]
  },
  {
   "cell_type": "markdown",
   "id": "oriental-grain",
   "metadata": {},
   "source": [
    "The mean of log(price) is over 11. That means the RMSE score of our model is pretty good. We can also calculate it as a fraction of the mean."
   ]
  },
  {
   "cell_type": "code",
   "execution_count": 36,
   "id": "grateful-alias",
   "metadata": {},
   "outputs": [
    {
     "data": {
      "text/plain": [
       "0.07909549056437751"
      ]
     },
     "execution_count": 36,
     "metadata": {},
     "output_type": "execute_result"
    }
   ],
   "source": [
    "rmse / np.mean(np.log(y_test))"
   ]
  },
  {
   "cell_type": "markdown",
   "id": "alike-trick",
   "metadata": {},
   "source": [
    "The RMSE of the final model is less than 8% of the mean of the predictor values. That means it must have a pretty good predicitve power.\n",
    "\n",
    "We can also have a look at what features were most important for prediction in the final model."
   ]
  },
  {
   "cell_type": "code",
   "execution_count": 45,
   "id": "distinguished-characterization",
   "metadata": {},
   "outputs": [
    {
     "data": {
      "text/plain": [
       "[(0.7448844054730149, 'london'),\n",
       " (0.1284416371095474, 'O'),\n",
       " (0.06442131831867201, 'T'),\n",
       " (0.026443714896735467, 'D'),\n",
       " (0.025742554692928292, 'S'),\n",
       " (0.009952849512996992, 'F'),\n",
       " (0.0, 'estate.type')]"
      ]
     },
     "execution_count": 45,
     "metadata": {},
     "output_type": "execute_result"
    }
   ],
   "source": [
    "# Define which attributes to look at (i.e. 'london' and the one-hot encoded ones)\n",
    "extra_attribs = [\"london\", \"estate.type\"]\n",
    "cat_encoder = full_pipeline.named_transformers_[\"cat\"]\n",
    "cat_one_hot_attribs = list(cat_encoder.categories_[0])\n",
    "attributes = extra_attribs + cat_one_hot_attribs\n",
    "\n",
    "# Extract feature importances from the best model\n",
    "feature_importances = best_model.feature_importances_\n",
    "# Output the results in order of importance\n",
    "sorted(zip(feature_importances, attributes), reverse=True)"
   ]
  },
  {
   "cell_type": "markdown",
   "id": "broken-experience",
   "metadata": {},
   "source": [
    "It looks like the 'london' binary variable was by far the most important predictor, at over 74%. The next best were the property type predictors (summing to roughly 25%), while estate type only contributed to less than 1%."
   ]
  }
 ],
 "metadata": {
  "kernelspec": {
   "display_name": "Python 3",
   "language": "python",
   "name": "python3"
  },
  "language_info": {
   "codemirror_mode": {
    "name": "ipython",
    "version": 3
   },
   "file_extension": ".py",
   "mimetype": "text/x-python",
   "name": "python",
   "nbconvert_exporter": "python",
   "pygments_lexer": "ipython3",
   "version": "3.7.4"
  }
 },
 "nbformat": 4,
 "nbformat_minor": 5
}
